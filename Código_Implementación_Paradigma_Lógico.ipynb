{
  "nbformat": 4,
  "nbformat_minor": 0,
  "metadata": {
    "colab": {
      "provenance": [],
      "authorship_tag": "ABX9TyPUNHyK8TXzEYO9m4qvmueZ",
      "include_colab_link": true
    },
    "kernelspec": {
      "name": "python3",
      "display_name": "Python 3"
    },
    "language_info": {
      "name": "python"
    }
  },
  "cells": [
    {
      "cell_type": "markdown",
      "metadata": {
        "id": "view-in-github",
        "colab_type": "text"
      },
      "source": [
        "<a href=\"https://colab.research.google.com/github/Carolm05/C-digo-Paradigma-L-gico/blob/main/C%C3%B3digo_Implementaci%C3%B3n_Paradigma_L%C3%B3gico.ipynb\" target=\"_parent\"><img src=\"https://colab.research.google.com/assets/colab-badge.svg\" alt=\"Open In Colab\"/></a>"
      ]
    },
    {
      "cell_type": "markdown",
      "source": [
        "**Código de Implementación Paradigma Lógico**\n",
        "Este código es un ejemplo práctico que simula un sistema de rutas aéreas entre ciudades de Colombia. La idea central es utilizar un conjunto de hechos –en este caso, vuelos directos definidos como tuplas que contienen la ciudad de origen, la ciudad de destino y el tiempo de vuelo– y combinarlos con reglas lógicas para deducir conexiones entre ciudades. El programa permite al usuario ingresar dos ciudades y verifica si existe una ruta (directa o indirecta) entre ellas, muestra las ciudades alcanzables desde la ciudad de origen y determina si dicha ciudad es un hub (es decir, un centro con vuelos directos a múltiples destinos). Esto se realiza mediante funciones que implementan búsquedas en profundidad y en anchura, lo que refleja la esencia del paradigma lógico: trabajar con hechos y reglas para inferir nuevas conclusiones."
      ],
      "metadata": {
        "id": "HuognaUcUHi-"
      }
    },
    {
      "cell_type": "code",
      "source": [
        "# vuelos directos entre ciudades de Colombia: (Ciudad Origen, Ciudad Destino, Tiempo de vuelo en horas)\n",
        "vuelos = [\n",
        "    (\"Bogota\", \"Medellin\", 1.0),\n",
        "    (\"Bogota\", \"Cali\", 1.2),\n",
        "    (\"Medellin\", \"Cali\", 0.8),\n",
        "    (\"Bogota\", \"Cartagena\", 1.5),\n",
        "    (\"Cartagena\", \"Barranquilla\", 0.5),\n",
        "    (\"Medellin\", \"Barranquilla\", 1.3),\n",
        "    (\"Bogota\", \"Bucaramanga\", 1.1),\n",
        "    (\"Bucaramanga\", \"Medellin\", 1.0),\n",
        "    (\"Barranquilla\", \"Santa Marta\", 0.7),\n",
        "    (\"Cartagena\", \"Santa Marta\", 0.6),\n",
        "    (\"Medellin\", \"Cartagena\", 1.4),\n",
        "    (\"Cali\", \"Barranquilla\", 1.6)\n",
        "]\n",
        "\n",
        "def conectado(ciudadA, ciudadB, datos_vuelos, visitados=None):\n",
        "    \"\"\"\n",
        "    Verifica si 'ciudadA' está conectada con 'ciudadB' (de manera directa o indirecta).\n",
        "    Utiliza un recorrido en profundidad (DFS) para explorar rutas.\n",
        "    \"\"\"\n",
        "    # Si 'visitados' no se ha inicializado, se crea un conjunto vacío para llevar registro de las ciudades visitadas.\n",
        "    if visitados is None:\n",
        "        visitados = set()\n",
        "\n",
        "    # Caso base: si la ciudad origen es igual a la destino, se considera conectada.\n",
        "    if ciudadA == ciudadB:\n",
        "        return True\n",
        "\n",
        "    # Se marca la ciudad actual como visitada para evitar ciclos.\n",
        "    visitados.add(ciudadA)\n",
        "\n",
        "    # Se recorre cada vuelo en la base de datos.\n",
        "    for (origen, destino, tiempo) in datos_vuelos:\n",
        "        # Se verifica que el vuelo salga desde la ciudad actual y que el destino no haya sido visitado.\n",
        "        if origen == ciudadA and destino not in visitados:\n",
        "            # Si el destino es la ciudad buscada, se retorna True.\n",
        "            if destino == ciudadB:\n",
        "                return True\n",
        "            # Se realiza una llamada recursiva para explorar rutas desde el destino actual.\n",
        "            if conectado(destino, ciudadB, datos_vuelos, visitados):\n",
        "                return True\n",
        "\n",
        "    # Si no se encontró conexión directa ni indirecta, se retorna False.\n",
        "    return False\n",
        "\n",
        "def obtener_todas_conectadas(ciudad, datos_vuelos):\n",
        "    \"\"\"\n",
        "    Retorna un conjunto con todas las ciudades conectadas (directa o indirectamente) a 'ciudad'.\n",
        "    Se basa en una búsqueda en anchura (BFS).\n",
        "    \"\"\"\n",
        "    # Inicializa el conjunto de visitados con la ciudad de origen.\n",
        "    visitados = set([ciudad])\n",
        "    # Inicializa la cola de procesamiento con la ciudad de origen.\n",
        "    cola = [ciudad]\n",
        "\n",
        "    # Se procesa la cola hasta que esté vacía.\n",
        "    while cola:\n",
        "        # Se extrae la primera ciudad de la cola.\n",
        "        actual = cola.pop(0)\n",
        "        # Se revisan todos los vuelos que parten de la ciudad actual.\n",
        "        for (origen, destino, tiempo) in datos_vuelos:\n",
        "            # Si se encuentra un vuelo desde la ciudad actual y el destino no ha sido visitado aún...\n",
        "            if origen == actual and destino not in visitados:\n",
        "                # Se añade el destino al conjunto de visitados.\n",
        "                visitados.add(destino)\n",
        "                # Se agrega el destino a la cola para explorar sus conexiones.\n",
        "                cola.append(destino)\n",
        "\n",
        "    # Retorna el conjunto de todas las ciudades alcanzables.\n",
        "    return visitados\n",
        "\n",
        "def es_hub(ciudad, datos_vuelos):\n",
        "    \"\"\"\n",
        "    Determina si 'ciudad' es un hub (centro de conexiones):\n",
        "    si tiene vuelos directos a al menos dos destinos diferentes.\n",
        "    \"\"\"\n",
        "    # Se inicializa un conjunto para almacenar destinos únicos de vuelos directos.\n",
        "    destinos = set()\n",
        "\n",
        "    # Se recorre la base de datos de vuelos.\n",
        "    for (origen, destino, tiempo) in datos_vuelos:\n",
        "        # Si el vuelo parte desde la ciudad evaluada...\n",
        "        if origen == ciudad:\n",
        "            # Se agrega el destino al conjunto de destinos.\n",
        "            destinos.add(destino)\n",
        "\n",
        "    # Si la cantidad de destinos es mayor o igual a 2, se considera que la ciudad es un hub.\n",
        "    return len(destinos) >= 2\n",
        "\n",
        "# Interacción con el usuario:\n",
        "# Se solicita al usuario ingresar la ciudad de origen y destino.\n",
        "origen = input(\"Ingrese la ciudad de origen: \").strip()    # El método strip() elimina espacios en blanco.\n",
        "destino = input(\"Ingrese la ciudad de destino: \").strip()   # El método strip() elimina espacios en blanco.\n",
        "\n",
        "# Verificar si existe una conexión (directa o indirecta) entre las ciudades ingresadas.\n",
        "if conectado(origen, destino, vuelos):\n",
        "    print(f\"\\nSí, hay conexión entre {origen} y {destino}.\")\n",
        "\n",
        "    # Inicializa la variable para almacenar el tiempo de un vuelo directo (si existe).\n",
        "    vuelo_directo = None\n",
        "    # Se recorre la lista de vuelos para buscar una conexión directa entre 'origen' y 'destino'.\n",
        "    for (o, d, t) in vuelos:\n",
        "        if o == origen and d == destino:\n",
        "            vuelo_directo = t  # Guarda el tiempo de vuelo si se encuentra un vuelo directo.\n",
        "            break             # Se termina el ciclo una vez encontrado.\n",
        "\n",
        "    # Si se encontró un vuelo directo, se muestra el tiempo de vuelo.\n",
        "    if vuelo_directo is not None:\n",
        "        print(f\"La conexión es directa y el vuelo dura aproximadamente {vuelo_directo} horas.\")\n",
        "    else:\n",
        "        # Si no hay un vuelo directo, se indica que se requieren escalas.\n",
        "        print(\"La conexión no es directa, se requieren escalas.\")\n",
        "else:\n",
        "    # Si no existe ninguna conexión, se informa al usuario.\n",
        "    print(f\"\\nNo se encontró conexión entre {origen} y {destino}.\")\n",
        "\n",
        "# Se obtienen todas las ciudades alcanzables desde la ciudad de origen utilizando BFS.\n",
        "ciudades_alcanzables = obtener_todas_conectadas(origen, vuelos)\n",
        "print(f\"\\nCiudades alcanzables desde {origen}: {ciudades_alcanzables}\")\n",
        "\n",
        "# Se verifica si la ciudad de origen es un hub (tiene al menos dos destinos directos).\n",
        "if es_hub(origen, vuelos):\n",
        "    print(f\"\\n{origen} es un hub (tiene vuelos directos a al menos dos destinos diferentes).\")\n",
        "else:\n",
        "    print(f\"\\n{origen} no es considerado un hub.\")"
      ],
      "metadata": {
        "colab": {
          "base_uri": "https://localhost:8080/"
        },
        "id": "VtAfoiyDEgVk",
        "outputId": "43bb7e77-a798-4c51-ec3e-e1d214fbbdbe"
      },
      "execution_count": 4,
      "outputs": [
        {
          "output_type": "stream",
          "name": "stdout",
          "text": [
            "Ingrese la ciudad de origen: Cali\n",
            "Ingrese la ciudad de destino: Cartagena\n",
            "\n",
            "No se encontró conexión entre Cali y Cartagena.\n",
            "\n",
            "Ciudades alcanzables desde Cali: {'Cali', 'Barranquilla', 'Santa Marta'}\n",
            "\n",
            "Cali no es considerado un hub.\n"
          ]
        }
      ]
    }
  ]
}